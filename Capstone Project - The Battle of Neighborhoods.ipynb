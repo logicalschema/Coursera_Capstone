{
 "cells": [
  {
   "cell_type": "markdown",
   "metadata": {
    "collapsed": true
   },
   "source": [
    "# The Battle of Neighborhoods\n",
    "\n",
    "## Introduction/Business Problem\n",
    "\n",
    "With NYC undergoing one of the worst economic crises in her lifetime with COVID and civil unrest, what would be the ideal restaurant to open in the Jackson Heights area of Queens, NY? Queens consists of invidividual villages such as Forest Hills (Spiderman's home) and Flushing (home of the Flushing Remonstrance and the U.S Open).\n",
    "\n",
    "\n",
    "## Data to Solve the Problem\n",
    "\n",
    "I will use the Foursquare data to look at the venues that are available in the area and analyze to find the trends to see if there is a type of cuisine that is popular and/or popular among the users who contribute to Foursquare. What are the most cuisines that are popular in the area?"
   ]
  },
  {
   "cell_type": "markdown",
   "metadata": {},
   "source": [
    "The following code imports the libraries that will be used for this project."
   ]
  },
  {
   "cell_type": "code",
   "execution_count": 1,
   "metadata": {},
   "outputs": [
    {
     "name": "stdout",
     "output_type": "stream",
     "text": [
      "Requirement already satisfied: BeautifulSoup4 in /opt/conda/envs/Python-3.7-main/lib/python3.7/site-packages (4.9.1)\n",
      "Requirement already satisfied: soupsieve>1.2 in /opt/conda/envs/Python-3.7-main/lib/python3.7/site-packages (from BeautifulSoup4) (2.0.1)\n",
      "Requirement already satisfied: requests in /opt/conda/envs/Python-3.7-main/lib/python3.7/site-packages (2.24.0)\n",
      "Requirement already satisfied: chardet<4,>=3.0.2 in /opt/conda/envs/Python-3.7-main/lib/python3.7/site-packages (from requests) (3.0.4)\n",
      "Requirement already satisfied: idna<3,>=2.5 in /opt/conda/envs/Python-3.7-main/lib/python3.7/site-packages (from requests) (2.9)\n",
      "Requirement already satisfied: certifi>=2017.4.17 in /opt/conda/envs/Python-3.7-main/lib/python3.7/site-packages (from requests) (2020.6.20)\n",
      "Requirement already satisfied: urllib3!=1.25.0,!=1.25.1,<1.26,>=1.21.1 in /opt/conda/envs/Python-3.7-main/lib/python3.7/site-packages (from requests) (1.25.9)\n",
      "Collecting folium\n",
      "  Downloading folium-0.11.0-py2.py3-none-any.whl (93 kB)\n",
      "\u001b[K     |████████████████████████████████| 93 kB 4.0 MB/s  eta 0:00:01\n",
      "\u001b[?25hRequirement already satisfied: jinja2>=2.9 in /opt/conda/envs/Python-3.7-main/lib/python3.7/site-packages (from folium) (2.11.2)\n",
      "Requirement already satisfied: requests in /opt/conda/envs/Python-3.7-main/lib/python3.7/site-packages (from folium) (2.24.0)\n",
      "Collecting branca>=0.3.0\n",
      "  Downloading branca-0.4.1-py3-none-any.whl (24 kB)\n",
      "Requirement already satisfied: numpy in /opt/conda/envs/Python-3.7-main/lib/python3.7/site-packages (from folium) (1.18.5)\n",
      "Requirement already satisfied: MarkupSafe>=0.23 in /opt/conda/envs/Python-3.7-main/lib/python3.7/site-packages (from jinja2>=2.9->folium) (1.1.1)\n",
      "Requirement already satisfied: chardet<4,>=3.0.2 in /opt/conda/envs/Python-3.7-main/lib/python3.7/site-packages (from requests->folium) (3.0.4)\n",
      "Requirement already satisfied: idna<3,>=2.5 in /opt/conda/envs/Python-3.7-main/lib/python3.7/site-packages (from requests->folium) (2.9)\n",
      "Requirement already satisfied: certifi>=2017.4.17 in /opt/conda/envs/Python-3.7-main/lib/python3.7/site-packages (from requests->folium) (2020.6.20)\n",
      "Requirement already satisfied: urllib3!=1.25.0,!=1.25.1,<1.26,>=1.21.1 in /opt/conda/envs/Python-3.7-main/lib/python3.7/site-packages (from requests->folium) (1.25.9)\n",
      "Installing collected packages: branca, folium\n",
      "Successfully installed branca-0.4.1 folium-0.11.0\n"
     ]
    }
   ],
   "source": [
    "!pip install BeautifulSoup4\n",
    "!pip install requests\n",
    "!pip install folium\n",
    "from bs4 import BeautifulSoup\n",
    "import requests\n",
    "import pandas as pd\n",
    "import numpy as np\n",
    "from geopy.geocoders import Nominatim \n",
    "from pandas.io.json import json_normalize  \n",
    "\n",
    "import folium # map rendering library\n",
    "# import k-means from clustering stage\n",
    "from sklearn.cluster import KMeans\n",
    "\n",
    "# Matplotlib and associated plotting modules\n",
    "import matplotlib.cm as cm\n",
    "import matplotlib.colors as colors"
   ]
  },
  {
   "cell_type": "markdown",
   "metadata": {},
   "source": [
    "## Jackson Heights, NY\n",
    "\n",
    "Jackson Heights is located in the borough of Queens, NY. More information can be found here: [https://en.wikipedia.org/wiki/Jackson_Heights%2C_Queens](https://en.wikipedia.org/wiki/Jackson_Heights%2C_Queens). Its zip code is 11372 and according to https://public.opendatasoft.com/explore/dataset/us-zip-code-latitude-and-longitude/table/?q=11372, its longitude is -73.884 and latitude is 40.750.  \n",
    "\n",
    "The following is a map of Jackson Heights created in Folium."
   ]
  },
  {
   "cell_type": "code",
   "execution_count": 16,
   "metadata": {},
   "outputs": [
    {
     "data": {
      "text/html": [
       "<div style=\"width:100%;\"><div style=\"position:relative;width:100%;height:0;padding-bottom:60%;\"><span style=\"color:#565656\">Make this Notebook Trusted to load map: File -> Trust Notebook</span><iframe src=\"about:blank\" style=\"position:absolute;width:100%;height:100%;left:0;top:0;border:none !important;\" data-html=PCFET0NUWVBFIGh0bWw+CjxoZWFkPiAgICAKICAgIDxtZXRhIGh0dHAtZXF1aXY9ImNvbnRlbnQtdHlwZSIgY29udGVudD0idGV4dC9odG1sOyBjaGFyc2V0PVVURi04IiAvPgogICAgCiAgICAgICAgPHNjcmlwdD4KICAgICAgICAgICAgTF9OT19UT1VDSCA9IGZhbHNlOwogICAgICAgICAgICBMX0RJU0FCTEVfM0QgPSBmYWxzZTsKICAgICAgICA8L3NjcmlwdD4KICAgIAogICAgPHNjcmlwdCBzcmM9Imh0dHBzOi8vY2RuLmpzZGVsaXZyLm5ldC9ucG0vbGVhZmxldEAxLjYuMC9kaXN0L2xlYWZsZXQuanMiPjwvc2NyaXB0PgogICAgPHNjcmlwdCBzcmM9Imh0dHBzOi8vY29kZS5qcXVlcnkuY29tL2pxdWVyeS0xLjEyLjQubWluLmpzIj48L3NjcmlwdD4KICAgIDxzY3JpcHQgc3JjPSJodHRwczovL21heGNkbi5ib290c3RyYXBjZG4uY29tL2Jvb3RzdHJhcC8zLjIuMC9qcy9ib290c3RyYXAubWluLmpzIj48L3NjcmlwdD4KICAgIDxzY3JpcHQgc3JjPSJodHRwczovL2NkbmpzLmNsb3VkZmxhcmUuY29tL2FqYXgvbGlicy9MZWFmbGV0LmF3ZXNvbWUtbWFya2Vycy8yLjAuMi9sZWFmbGV0LmF3ZXNvbWUtbWFya2Vycy5qcyI+PC9zY3JpcHQ+CiAgICA8bGluayByZWw9InN0eWxlc2hlZXQiIGhyZWY9Imh0dHBzOi8vY2RuLmpzZGVsaXZyLm5ldC9ucG0vbGVhZmxldEAxLjYuMC9kaXN0L2xlYWZsZXQuY3NzIi8+CiAgICA8bGluayByZWw9InN0eWxlc2hlZXQiIGhyZWY9Imh0dHBzOi8vbWF4Y2RuLmJvb3RzdHJhcGNkbi5jb20vYm9vdHN0cmFwLzMuMi4wL2Nzcy9ib290c3RyYXAubWluLmNzcyIvPgogICAgPGxpbmsgcmVsPSJzdHlsZXNoZWV0IiBocmVmPSJodHRwczovL21heGNkbi5ib290c3RyYXBjZG4uY29tL2Jvb3RzdHJhcC8zLjIuMC9jc3MvYm9vdHN0cmFwLXRoZW1lLm1pbi5jc3MiLz4KICAgIDxsaW5rIHJlbD0ic3R5bGVzaGVldCIgaHJlZj0iaHR0cHM6Ly9tYXhjZG4uYm9vdHN0cmFwY2RuLmNvbS9mb250LWF3ZXNvbWUvNC42LjMvY3NzL2ZvbnQtYXdlc29tZS5taW4uY3NzIi8+CiAgICA8bGluayByZWw9InN0eWxlc2hlZXQiIGhyZWY9Imh0dHBzOi8vY2RuanMuY2xvdWRmbGFyZS5jb20vYWpheC9saWJzL0xlYWZsZXQuYXdlc29tZS1tYXJrZXJzLzIuMC4yL2xlYWZsZXQuYXdlc29tZS1tYXJrZXJzLmNzcyIvPgogICAgPGxpbmsgcmVsPSJzdHlsZXNoZWV0IiBocmVmPSJodHRwczovL3Jhd2Nkbi5naXRoYWNrLmNvbS9weXRob24tdmlzdWFsaXphdGlvbi9mb2xpdW0vbWFzdGVyL2ZvbGl1bS90ZW1wbGF0ZXMvbGVhZmxldC5hd2Vzb21lLnJvdGF0ZS5jc3MiLz4KICAgIDxzdHlsZT5odG1sLCBib2R5IHt3aWR0aDogMTAwJTtoZWlnaHQ6IDEwMCU7bWFyZ2luOiAwO3BhZGRpbmc6IDA7fTwvc3R5bGU+CiAgICA8c3R5bGU+I21hcCB7cG9zaXRpb246YWJzb2x1dGU7dG9wOjA7Ym90dG9tOjA7cmlnaHQ6MDtsZWZ0OjA7fTwvc3R5bGU+CiAgICAKICAgICAgICAgICAgPG1ldGEgbmFtZT0idmlld3BvcnQiIGNvbnRlbnQ9IndpZHRoPWRldmljZS13aWR0aCwKICAgICAgICAgICAgICAgIGluaXRpYWwtc2NhbGU9MS4wLCBtYXhpbXVtLXNjYWxlPTEuMCwgdXNlci1zY2FsYWJsZT1ubyIgLz4KICAgICAgICAgICAgPHN0eWxlPgogICAgICAgICAgICAgICAgI21hcF80YTA3YTA1ODczNDk0NTM5OWRmMGY1NzYyNTEyN2ZlNyB7CiAgICAgICAgICAgICAgICAgICAgcG9zaXRpb246IHJlbGF0aXZlOwogICAgICAgICAgICAgICAgICAgIHdpZHRoOiAxMDAuMCU7CiAgICAgICAgICAgICAgICAgICAgaGVpZ2h0OiAxMDAuMCU7CiAgICAgICAgICAgICAgICAgICAgbGVmdDogMC4wJTsKICAgICAgICAgICAgICAgICAgICB0b3A6IDAuMCU7CiAgICAgICAgICAgICAgICB9CiAgICAgICAgICAgIDwvc3R5bGU+CiAgICAgICAgCjwvaGVhZD4KPGJvZHk+ICAgIAogICAgCiAgICAgICAgICAgIDxkaXYgY2xhc3M9ImZvbGl1bS1tYXAiIGlkPSJtYXBfNGEwN2EwNTg3MzQ5NDUzOTlkZjBmNTc2MjUxMjdmZTciID48L2Rpdj4KICAgICAgICAKPC9ib2R5Pgo8c2NyaXB0PiAgICAKICAgIAogICAgICAgICAgICB2YXIgbWFwXzRhMDdhMDU4NzM0OTQ1Mzk5ZGYwZjU3NjI1MTI3ZmU3ID0gTC5tYXAoCiAgICAgICAgICAgICAgICAibWFwXzRhMDdhMDU4NzM0OTQ1Mzk5ZGYwZjU3NjI1MTI3ZmU3IiwKICAgICAgICAgICAgICAgIHsKICAgICAgICAgICAgICAgICAgICBjZW50ZXI6IFs0MC43NSwgLTczLjg4NF0sCiAgICAgICAgICAgICAgICAgICAgY3JzOiBMLkNSUy5FUFNHMzg1NywKICAgICAgICAgICAgICAgICAgICB6b29tOiAxNSwKICAgICAgICAgICAgICAgICAgICB6b29tQ29udHJvbDogdHJ1ZSwKICAgICAgICAgICAgICAgICAgICBwcmVmZXJDYW52YXM6IGZhbHNlLAogICAgICAgICAgICAgICAgfQogICAgICAgICAgICApOwoKICAgICAgICAgICAgCgogICAgICAgIAogICAgCiAgICAgICAgICAgIHZhciB0aWxlX2xheWVyX2YwMmJmMTI2YThlNzRkZDA5ZDg4OWZlMTlkOWFiY2JiID0gTC50aWxlTGF5ZXIoCiAgICAgICAgICAgICAgICAiaHR0cHM6Ly97c30udGlsZS5vcGVuc3RyZWV0bWFwLm9yZy97en0ve3h9L3t5fS5wbmciLAogICAgICAgICAgICAgICAgeyJhdHRyaWJ1dGlvbiI6ICJEYXRhIGJ5IFx1MDAyNmNvcHk7IFx1MDAzY2EgaHJlZj1cImh0dHA6Ly9vcGVuc3RyZWV0bWFwLm9yZ1wiXHUwMDNlT3BlblN0cmVldE1hcFx1MDAzYy9hXHUwMDNlLCB1bmRlciBcdTAwM2NhIGhyZWY9XCJodHRwOi8vd3d3Lm9wZW5zdHJlZXRtYXAub3JnL2NvcHlyaWdodFwiXHUwMDNlT0RiTFx1MDAzYy9hXHUwMDNlLiIsICJkZXRlY3RSZXRpbmEiOiBmYWxzZSwgIm1heE5hdGl2ZVpvb20iOiAxOCwgIm1heFpvb20iOiAxOCwgIm1pblpvb20iOiAwLCAibm9XcmFwIjogZmFsc2UsICJvcGFjaXR5IjogMSwgInN1YmRvbWFpbnMiOiAiYWJjIiwgInRtcyI6IGZhbHNlfQogICAgICAgICAgICApLmFkZFRvKG1hcF80YTA3YTA1ODczNDk0NTM5OWRmMGY1NzYyNTEyN2ZlNyk7CiAgICAgICAgCjwvc2NyaXB0Pg== onload=\"this.contentDocument.open();this.contentDocument.write(atob(this.getAttribute('data-html')));this.contentDocument.close();\" allowfullscreen webkitallowfullscreen mozallowfullscreen></iframe></div></div>"
      ],
      "text/plain": [
       "<folium.folium.Map at 0x7f3df644f650>"
      ]
     },
     "execution_count": 16,
     "metadata": {},
     "output_type": "execute_result"
    }
   ],
   "source": [
    "# Create map of Jackson Heights, NY using latitude and longitude values\n",
    "map_jh = folium.Map(location=[40.750, -73.884], zoom_start=15)\n",
    "map_jh"
   ]
  },
  {
   "cell_type": "markdown",
   "metadata": {},
   "source": [
    "## Foursquare\n",
    "\n",
    "Now that we have a general idea of where Jackson Heights is located, let's access Foursquare and see what information we can get about this area through their API."
   ]
  },
  {
   "cell_type": "code",
   "execution_count": 51,
   "metadata": {},
   "outputs": [],
   "source": [
    "# Foursquare API credentials and endpoint\n",
    "CLIENT_ID = '' # Removed Credentials\n",
    "CLIENT_SECRET = '' # Removed Credentials\n",
    "VERSION = '20201024' # put today's date\n",
    "URL = 'https://api.foursquare.com/v2/venues/explore?&client_id={}&client_secret={}&v={}&limit={}'.format(CLIENT_ID, CLIENT_SECRET, VERSION, 5000)\n",
    "city = 'Jackson Heights, NY'\n",
    "\n",
    "# List of international cuisines (extracted from https://developer.foursquare.com/docs/build-with-foursquare/categories/)\n",
    "cuisines = {\n",
    "    'Afghan': '503288ae91d4c4b30a586d67', \n",
    "    'African': '4bf58dd8d48988d1c8941735', \n",
    "    'American': '4bf58dd8d48988d14e941735', \n",
    "    'Burmese': '56aa371be4b08b9a8d573568', \n",
    "    'Cambodian': '52e81612bcbc57f1066b7a03', \n",
    "    'Chinese': '4bf58dd8d48988d145941735', \n",
    "    'Filipino': '4eb1bd1c3b7b55596b4a748f', \n",
    "    'Himalayan': '52e81612bcbc57f1066b79fb', \n",
    "    'Indonesian': '4deefc054765f83613cdba6f', \n",
    "    'Japanese': '4bf58dd8d48988d111941735', \n",
    "    'Korean': '4bf58dd8d48988d113941735', \n",
    "    'Malay': '4bf58dd8d48988d156941735', \n",
    "    'Mongolian': '4eb1d5724b900d56c88a45fe', \n",
    "    'Thai': '4bf58dd8d48988d149941735', \n",
    "    'Tibetan': '52af39fb3cf9994f4e043be9', \n",
    "    'Vietnamese': '4bf58dd8d48988d14a941735', \n",
    "    'Australian': '4bf58dd8d48988d169941735', \n",
    "    'Austrian': '52e81612bcbc57f1066b7a01', \n",
    "    'Bangladeshi': '5e179ee74ae8e90006e9a746', \n",
    "    'Belgian': '52e81612bcbc57f1066b7a02', \n",
    "    'Caribbean': '4bf58dd8d48988d144941735', \n",
    "    'Caucasian': '5293a7d53cf9994f4e043a45', \n",
    "    'Czech': '52f2ae52bcbc57f1066b8b81', \n",
    "    'Dutch': '5744ccdfe4b0c0459246b4d0', \n",
    "    'Belarusian': '52e928d0bcbc57f1066b7e97', \n",
    "    'Bosnian': '58daa1558bbb0b01f18ec1ee', \n",
    "    'Bulgarian': '56aa371be4b08b9a8d5734f3', \n",
    "    'Romanian': '52960bac3cf9994f4e043ac4', \n",
    "    'Tatar': '52e928d0bcbc57f1066b7e98', \n",
    "    'English': '52e81612bcbc57f1066b7a05', \n",
    "    'French': '4bf58dd8d48988d10c941735', \n",
    "    'German': '4bf58dd8d48988d10d941735', \n",
    "    'Greek': '4bf58dd8d48988d10e941735', \n",
    "    'Hawaiian': '52e81612bcbc57f1066b79fe', \n",
    "    'Hungarian': '52e81612bcbc57f1066b79fa', \n",
    "    'Indian': '4bf58dd8d48988d10f941735', \n",
    "    'Italian': '4bf58dd8d48988d110941735', \n",
    "    'Salvadoran': '5745c7ac498e5d0483112fdb', \n",
    "    'Argentinian': '4bf58dd8d48988d107941735', \n",
    "    'Brazilian': '4bf58dd8d48988d16b941735', \n",
    "    'Colombian': '58daa1558bbb0b01f18ec1f4', \n",
    "    'Peruvian': '4eb1bfa43b7b52c0e1adc2e8', \n",
    "    'Venezuelan': '56aa371be4b08b9a8d573558', \n",
    "    'Moroccan': '4bf58dd8d48988d1c3941735', \n",
    "    'Mexican': '4bf58dd8d48988d1c1941735', \n",
    "    'Egyptian': '5bae9231bedf3950379f89e1', \n",
    "    'Iraqi': '5bae9231bedf3950379f89e7', \n",
    "    'Israeli': '56aa371be4b08b9a8d573529', \n",
    "    'Kurdish': '5744ccdfe4b0c0459246b4ca', \n",
    "    'Lebanese': '58daa1558bbb0b01f18ec1cd', \n",
    "    'Persian': '52e81612bcbc57f1066b79f7', \n",
    "    'Syrian': '5bae9231bedf3950379f89da', \n",
    "    'Yemeni': '5bae9231bedf3950379f89ea', \n",
    "    'Pakistani': '52e81612bcbc57f1066b79f8', \n",
    "    'Polish': '52e81612bcbc57f1066b7a04', \n",
    "    'Portuguese': '4def73e84765ae376e57713a', \n",
    "    'Russian': '5293a7563cf9994f4e043a44', \n",
    "    'Scandinavian': '4bf58dd8d48988d1c6941735', \n",
    "    'Scottish': '5744ccdde4b0c0459246b4a3', \n",
    "    'Slovak': '56aa371be4b08b9a8d57355a', \n",
    "    'Spanish': '4bf58dd8d48988d150941735', \n",
    "    'Sri Lankan': '5413605de4b0ae91d18581a9', \n",
    "    'Swiss': '4bf58dd8d48988d158941735', \n",
    "    'Turkish': '4f04af1f2fb6e1c99f3db0bb', \n",
    "    'Ukranian': '52e928d0bcbc57f1066b7e96'\n",
    "}\n",
    "\n",
    "restaurants = pd.DataFrame(columns=['City', 'Cuisine', 'Json']) # define the DataFrame where the results will be stored\n",
    "\n",
    "for cuisine_name, category_id in cuisines.items():\n",
    "# For each city, retrieve the top restaurants from Foursquare for each cuisine...\n",
    "   query = requests.get(\"{url}&near={city}&categoryId={category_id}\".format(url=URL, city=city, category_id=category_id))\n",
    "   if query.status_code == 200:\n",
    "      number = query.json()\n",
    "      restaurants = restaurants.append({\n",
    "                'City': city,\n",
    "                'Cuisine': cuisine_name,\n",
    "                'Json': number\n",
    "      }, ignore_index=True)\n",
    "    \n"
   ]
  },
  {
   "cell_type": "markdown",
   "metadata": {},
   "source": [
    "The `restaurants` dataframe stores the information returned by Foursquare. \n",
    "\n",
    "The JSON data is stored in the Json column."
   ]
  },
  {
   "cell_type": "code",
   "execution_count": 52,
   "metadata": {},
   "outputs": [
    {
     "data": {
      "text/html": [
       "<div>\n",
       "<style scoped>\n",
       "    .dataframe tbody tr th:only-of-type {\n",
       "        vertical-align: middle;\n",
       "    }\n",
       "\n",
       "    .dataframe tbody tr th {\n",
       "        vertical-align: top;\n",
       "    }\n",
       "\n",
       "    .dataframe thead th {\n",
       "        text-align: right;\n",
       "    }\n",
       "</style>\n",
       "<table border=\"1\" class=\"dataframe\">\n",
       "  <thead>\n",
       "    <tr style=\"text-align: right;\">\n",
       "      <th></th>\n",
       "      <th>City</th>\n",
       "      <th>Cuisine</th>\n",
       "      <th>Json</th>\n",
       "    </tr>\n",
       "  </thead>\n",
       "  <tbody>\n",
       "    <tr>\n",
       "      <th>0</th>\n",
       "      <td>Jackson Heights, NY</td>\n",
       "      <td>Afghan</td>\n",
       "      <td>{'meta': {'code': 200, 'requestId': '5f94c956b...</td>\n",
       "    </tr>\n",
       "    <tr>\n",
       "      <th>1</th>\n",
       "      <td>Jackson Heights, NY</td>\n",
       "      <td>African</td>\n",
       "      <td>{'meta': {'code': 200, 'requestId': '5f94c9572...</td>\n",
       "    </tr>\n",
       "    <tr>\n",
       "      <th>2</th>\n",
       "      <td>Jackson Heights, NY</td>\n",
       "      <td>American</td>\n",
       "      <td>{'meta': {'code': 200, 'requestId': '5f94c957e...</td>\n",
       "    </tr>\n",
       "    <tr>\n",
       "      <th>3</th>\n",
       "      <td>Jackson Heights, NY</td>\n",
       "      <td>Burmese</td>\n",
       "      <td>{'meta': {'code': 200, 'requestId': '5f94c957d...</td>\n",
       "    </tr>\n",
       "    <tr>\n",
       "      <th>4</th>\n",
       "      <td>Jackson Heights, NY</td>\n",
       "      <td>Cambodian</td>\n",
       "      <td>{'meta': {'code': 200, 'requestId': '5f94c958c...</td>\n",
       "    </tr>\n",
       "  </tbody>\n",
       "</table>\n",
       "</div>"
      ],
      "text/plain": [
       "                  City    Cuisine  \\\n",
       "0  Jackson Heights, NY     Afghan   \n",
       "1  Jackson Heights, NY    African   \n",
       "2  Jackson Heights, NY   American   \n",
       "3  Jackson Heights, NY    Burmese   \n",
       "4  Jackson Heights, NY  Cambodian   \n",
       "\n",
       "                                                Json  \n",
       "0  {'meta': {'code': 200, 'requestId': '5f94c956b...  \n",
       "1  {'meta': {'code': 200, 'requestId': '5f94c9572...  \n",
       "2  {'meta': {'code': 200, 'requestId': '5f94c957e...  \n",
       "3  {'meta': {'code': 200, 'requestId': '5f94c957d...  \n",
       "4  {'meta': {'code': 200, 'requestId': '5f94c958c...  "
      ]
     },
     "execution_count": 52,
     "metadata": {},
     "output_type": "execute_result"
    }
   ],
   "source": [
    "restaurants.head()\n",
    "\n"
   ]
  },
  {
   "cell_type": "markdown",
   "metadata": {},
   "source": [
    "Next, let's parse through the data to obtain the number of restaurants in each cuisine."
   ]
  },
  {
   "cell_type": "code",
   "execution_count": 116,
   "metadata": {},
   "outputs": [
    {
     "data": {
      "text/html": [
       "<div>\n",
       "<style scoped>\n",
       "    .dataframe tbody tr th:only-of-type {\n",
       "        vertical-align: middle;\n",
       "    }\n",
       "\n",
       "    .dataframe tbody tr th {\n",
       "        vertical-align: top;\n",
       "    }\n",
       "\n",
       "    .dataframe thead th {\n",
       "        text-align: right;\n",
       "    }\n",
       "</style>\n",
       "<table border=\"1\" class=\"dataframe\">\n",
       "  <thead>\n",
       "    <tr style=\"text-align: right;\">\n",
       "      <th></th>\n",
       "      <th>City</th>\n",
       "      <th>Cuisine</th>\n",
       "      <th>Json</th>\n",
       "      <th>Number</th>\n",
       "    </tr>\n",
       "  </thead>\n",
       "  <tbody>\n",
       "    <tr>\n",
       "      <th>0</th>\n",
       "      <td>Jackson Heights, NY</td>\n",
       "      <td>Afghan</td>\n",
       "      <td>{'meta': {'code': 200, 'requestId': '5f94c956b...</td>\n",
       "      <td>5</td>\n",
       "    </tr>\n",
       "    <tr>\n",
       "      <th>1</th>\n",
       "      <td>Jackson Heights, NY</td>\n",
       "      <td>African</td>\n",
       "      <td>{'meta': {'code': 200, 'requestId': '5f94c9572...</td>\n",
       "      <td>3</td>\n",
       "    </tr>\n",
       "    <tr>\n",
       "      <th>2</th>\n",
       "      <td>Jackson Heights, NY</td>\n",
       "      <td>American</td>\n",
       "      <td>{'meta': {'code': 200, 'requestId': '5f94c957e...</td>\n",
       "      <td>35</td>\n",
       "    </tr>\n",
       "    <tr>\n",
       "      <th>3</th>\n",
       "      <td>Jackson Heights, NY</td>\n",
       "      <td>Burmese</td>\n",
       "      <td>{'meta': {'code': 200, 'requestId': '5f94c957d...</td>\n",
       "      <td>2</td>\n",
       "    </tr>\n",
       "    <tr>\n",
       "      <th>4</th>\n",
       "      <td>Jackson Heights, NY</td>\n",
       "      <td>Cambodian</td>\n",
       "      <td>{'meta': {'code': 200, 'requestId': '5f94c958c...</td>\n",
       "      <td>0</td>\n",
       "    </tr>\n",
       "  </tbody>\n",
       "</table>\n",
       "</div>"
      ],
      "text/plain": [
       "                  City    Cuisine  \\\n",
       "0  Jackson Heights, NY     Afghan   \n",
       "1  Jackson Heights, NY    African   \n",
       "2  Jackson Heights, NY   American   \n",
       "3  Jackson Heights, NY    Burmese   \n",
       "4  Jackson Heights, NY  Cambodian   \n",
       "\n",
       "                                                Json Number  \n",
       "0  {'meta': {'code': 200, 'requestId': '5f94c956b...      5  \n",
       "1  {'meta': {'code': 200, 'requestId': '5f94c9572...      3  \n",
       "2  {'meta': {'code': 200, 'requestId': '5f94c957e...     35  \n",
       "3  {'meta': {'code': 200, 'requestId': '5f94c957d...      2  \n",
       "4  {'meta': {'code': 200, 'requestId': '5f94c958c...      0  "
      ]
     },
     "execution_count": 116,
     "metadata": {},
     "output_type": "execute_result"
    }
   ],
   "source": [
    "import json\n",
    "from collections import Counter\n",
    "\n",
    "for i in range(len(restaurants)):\n",
    "    restaurants['Number'].iloc[i] = restaurants['Json'].iloc[i]['response']['totalResults']\n",
    "\n",
    "restaurants.head()"
   ]
  },
  {
   "cell_type": "markdown",
   "metadata": {},
   "source": [
    "Let's find the cuisine with the most amount around Jackson Heights. Here is a visualization."
   ]
  },
  {
   "cell_type": "code",
   "execution_count": 118,
   "metadata": {},
   "outputs": [
    {
     "data": {
      "text/plain": [
       "<matplotlib.axes._subplots.AxesSubplot at 0x7f3dee0d9a50>"
      ]
     },
     "execution_count": 118,
     "metadata": {},
     "output_type": "execute_result"
    },
    {
     "data": {
      "image/png": "[encoded data removed]",
      "text/plain": [
       "<Figure size 432x288 with 1 Axes>"
      ]
     },
     "metadata": {
      "needs_background": "light"
     },
     "output_type": "display_data"
    }
   ],
   "source": [
    "restaurants.plot.bar(x=\"Cuisine\", y =\"Number\")"
   ]
  },
  {
   "cell_type": "code",
   "execution_count": 126,
   "metadata": {},
   "outputs": [
    {
     "data": {
      "text/html": [
       "<div>\n",
       "<style scoped>\n",
       "    .dataframe tbody tr th:only-of-type {\n",
       "        vertical-align: middle;\n",
       "    }\n",
       "\n",
       "    .dataframe tbody tr th {\n",
       "        vertical-align: top;\n",
       "    }\n",
       "\n",
       "    .dataframe thead th {\n",
       "        text-align: right;\n",
       "    }\n",
       "</style>\n",
       "<table border=\"1\" class=\"dataframe\">\n",
       "  <thead>\n",
       "    <tr style=\"text-align: right;\">\n",
       "      <th></th>\n",
       "      <th>City</th>\n",
       "      <th>Cuisine</th>\n",
       "      <th>Json</th>\n",
       "      <th>Number</th>\n",
       "    </tr>\n",
       "  </thead>\n",
       "  <tbody>\n",
       "    <tr>\n",
       "      <th>9</th>\n",
       "      <td>Jackson Heights, NY</td>\n",
       "      <td>Japanese</td>\n",
       "      <td>{'meta': {'code': 200, 'requestId': '5f94c959d...</td>\n",
       "      <td>126</td>\n",
       "    </tr>\n",
       "  </tbody>\n",
       "</table>\n",
       "</div>"
      ],
      "text/plain": [
       "                  City   Cuisine  \\\n",
       "9  Jackson Heights, NY  Japanese   \n",
       "\n",
       "                                                Json Number  \n",
       "9  {'meta': {'code': 200, 'requestId': '5f94c959d...    126  "
      ]
     },
     "execution_count": 126,
     "metadata": {},
     "output_type": "execute_result"
    }
   ],
   "source": [
    "maxNum = restaurants['Number'].max()\n",
    "popularCuisines = restaurants[restaurants['Number'] == maxNum]\n",
    "\n",
    "popularCuisines"
   ]
  },
  {
   "cell_type": "code",
   "execution_count": null,
   "metadata": {},
   "outputs": [],
   "source": [
    "It looks like the popular cuisine is **Japanese**. "
   ]
  },
  {
   "cell_type": "markdown",
   "metadata": {},
   "source": [
    "According to the data from Foursquare, the popular cuisine is Japanese and the most likely safe bet is to open a Japanese restaurant. However, in future research, one can take the users who have contributed to Foursquare and find what popular cuisine is absent within the area of Jackson Heights to open a restaurant with that type."
   ]
  },
  {
   "cell_type": "code",
   "execution_count": null,
   "metadata": {},
   "outputs": [],
   "source": []
  }
 ],
 "metadata": {
  "kernelspec": {
   "display_name": "Python 3.7",
   "language": "python",
   "name": "python3"
  },
  "language_info": {
   "codemirror_mode": {
    "name": "ipython",
    "version": 3
   },
   "file_extension": ".py",
   "mimetype": "text/x-python",
   "name": "python",
   "nbconvert_exporter": "python",
   "pygments_lexer": "ipython3",
   "version": "3.7.9"
  }
 },
 "nbformat": 4,
 "nbformat_minor": 1
}
