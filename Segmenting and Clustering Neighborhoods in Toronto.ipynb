{
 "cells": [
  {
   "cell_type": "markdown",
   "metadata": {
    "collapsed": true
   },
   "source": [
    "**Instructions**\n",
    "\n",
    "In this assignment, you will be required to explore, segment, and cluster the neighborhoods in the city of Toronto. However, unlike New York, the neighborhood data is not readily available on the internet. What is interesting about the field of data science is that each project can be challenging in its unique way, so you need to learn to be agile and refine the skill to learn new libraries and tools quickly depending on the project.\n",
    "\n",
    "For the Toronto neighborhood data, a Wikipedia page exists that has all the information we need to explore and cluster the neighborhoods in Toronto. You will be required to scrape the Wikipedia page and wrangle the data, clean it, and then read it into a pandas dataframe so that it is in a structured format like the New York dataset.\n",
    "\n",
    "Once the data is in a structured format, you can replicate the analysis that we did to the New York City dataset to explore and cluster the neighborhoods in the city of Toronto.\n",
    "\n",
    "Your submission will be a link to your Jupyter Notebook on your Github repository."
   ]
  },
  {
   "cell_type": "code",
   "execution_count": 8,
   "metadata": {},
   "outputs": [
    {
     "name": "stdout",
     "output_type": "stream",
     "text": [
      "Requirement already satisfied: BeautifulSoup4 in /opt/conda/envs/Python-3.7-main/lib/python3.7/site-packages (4.9.1)\n",
      "Requirement already satisfied: soupsieve>1.2 in /opt/conda/envs/Python-3.7-main/lib/python3.7/site-packages (from BeautifulSoup4) (2.0.1)\n",
      "Requirement already satisfied: requests in /opt/conda/envs/Python-3.7-main/lib/python3.7/site-packages (2.24.0)\n",
      "Requirement already satisfied: certifi>=2017.4.17 in /opt/conda/envs/Python-3.7-main/lib/python3.7/site-packages (from requests) (2020.6.20)\n",
      "Requirement already satisfied: chardet<4,>=3.0.2 in /opt/conda/envs/Python-3.7-main/lib/python3.7/site-packages (from requests) (3.0.4)\n",
      "Requirement already satisfied: urllib3!=1.25.0,!=1.25.1,<1.26,>=1.21.1 in /opt/conda/envs/Python-3.7-main/lib/python3.7/site-packages (from requests) (1.25.9)\n",
      "Requirement already satisfied: idna<3,>=2.5 in /opt/conda/envs/Python-3.7-main/lib/python3.7/site-packages (from requests) (2.9)\n",
      "Collecting folium\n",
      "  Downloading folium-0.11.0-py2.py3-none-any.whl (93 kB)\n",
      "\u001b[K     |████████████████████████████████| 93 kB 2.8 MB/s  eta 0:00:01\n",
      "\u001b[?25hCollecting branca>=0.3.0\n",
      "  Downloading branca-0.4.1-py3-none-any.whl (24 kB)\n",
      "Requirement already satisfied: requests in /opt/conda/envs/Python-3.7-main/lib/python3.7/site-packages (from folium) (2.24.0)\n",
      "Requirement already satisfied: jinja2>=2.9 in /opt/conda/envs/Python-3.7-main/lib/python3.7/site-packages (from folium) (2.11.2)\n",
      "Requirement already satisfied: numpy in /opt/conda/envs/Python-3.7-main/lib/python3.7/site-packages (from folium) (1.18.5)\n",
      "Requirement already satisfied: certifi>=2017.4.17 in /opt/conda/envs/Python-3.7-main/lib/python3.7/site-packages (from requests->folium) (2020.6.20)\n",
      "Requirement already satisfied: idna<3,>=2.5 in /opt/conda/envs/Python-3.7-main/lib/python3.7/site-packages (from requests->folium) (2.9)\n",
      "Requirement already satisfied: urllib3!=1.25.0,!=1.25.1,<1.26,>=1.21.1 in /opt/conda/envs/Python-3.7-main/lib/python3.7/site-packages (from requests->folium) (1.25.9)\n",
      "Requirement already satisfied: chardet<4,>=3.0.2 in /opt/conda/envs/Python-3.7-main/lib/python3.7/site-packages (from requests->folium) (3.0.4)\n",
      "Requirement already satisfied: MarkupSafe>=0.23 in /opt/conda/envs/Python-3.7-main/lib/python3.7/site-packages (from jinja2>=2.9->folium) (1.1.1)\n",
      "Installing collected packages: branca, folium\n",
      "Successfully installed branca-0.4.1 folium-0.11.0\n"
     ]
    }
   ],
   "source": [
    "#install Beautiful Soup and requests for Web Scaping\n",
    "!pip install BeautifulSoup4\n",
    "!pip install requests\n",
    "!pip install folium"
   ]
  },
  {
   "cell_type": "markdown",
   "metadata": {},
   "source": [
    "The following steps:\n",
    "1. Get the Wikipedia Page\n",
    "2. Parse HTML\n",
    "3. Store parsed data in Pandas Dataframe"
   ]
  },
  {
   "cell_type": "code",
   "execution_count": 9,
   "metadata": {},
   "outputs": [
    {
     "data": {
      "text/html": [
       "<div>\n",
       "<style scoped>\n",
       "    .dataframe tbody tr th:only-of-type {\n",
       "        vertical-align: middle;\n",
       "    }\n",
       "\n",
       "    .dataframe tbody tr th {\n",
       "        vertical-align: top;\n",
       "    }\n",
       "\n",
       "    .dataframe thead th {\n",
       "        text-align: right;\n",
       "    }\n",
       "</style>\n",
       "<table border=\"1\" class=\"dataframe\">\n",
       "  <thead>\n",
       "    <tr style=\"text-align: right;\">\n",
       "      <th></th>\n",
       "      <th>Postal Code</th>\n",
       "      <th>Borough</th>\n",
       "      <th>Neighbourhood</th>\n",
       "    </tr>\n",
       "  </thead>\n",
       "  <tbody>\n",
       "    <tr>\n",
       "      <th>0</th>\n",
       "      <td>M1A</td>\n",
       "      <td>Not assigned</td>\n",
       "      <td>Not assigned</td>\n",
       "    </tr>\n",
       "    <tr>\n",
       "      <th>1</th>\n",
       "      <td>M2A</td>\n",
       "      <td>Not assigned</td>\n",
       "      <td>Not assigned</td>\n",
       "    </tr>\n",
       "    <tr>\n",
       "      <th>2</th>\n",
       "      <td>M3A</td>\n",
       "      <td>North York</td>\n",
       "      <td>Parkwoods</td>\n",
       "    </tr>\n",
       "    <tr>\n",
       "      <th>3</th>\n",
       "      <td>M4A</td>\n",
       "      <td>North York</td>\n",
       "      <td>Victoria Village</td>\n",
       "    </tr>\n",
       "    <tr>\n",
       "      <th>4</th>\n",
       "      <td>M5A</td>\n",
       "      <td>Downtown Toronto</td>\n",
       "      <td>Regent Park, Harbourfront</td>\n",
       "    </tr>\n",
       "  </tbody>\n",
       "</table>\n",
       "</div>"
      ],
      "text/plain": [
       "  Postal Code           Borough              Neighbourhood\n",
       "0         M1A      Not assigned               Not assigned\n",
       "1         M2A      Not assigned               Not assigned\n",
       "2         M3A        North York                  Parkwoods\n",
       "3         M4A        North York           Victoria Village\n",
       "4         M5A  Downtown Toronto  Regent Park, Harbourfront"
      ]
     },
     "execution_count": 9,
     "metadata": {},
     "output_type": "execute_result"
    }
   ],
   "source": [
    "from bs4 import BeautifulSoup\n",
    "import requests\n",
    "import pandas as pd\n",
    "import numpy as np\n",
    "from geopy.geocoders import Nominatim \n",
    "from pandas.io.json import json_normalize  \n",
    "\n",
    "import folium # map rendering library\n",
    "# import k-means from clustering stage\n",
    "from sklearn.cluster import KMeans\n",
    "\n",
    "# Matplotlib and associated plotting modules\n",
    "import matplotlib.cm as cm\n",
    "import matplotlib.colors as colors\n",
    "\n",
    "url = requests.get(\"https://en.wikipedia.org/wiki/List_of_postal_codes_of_Canada:_M\")\n",
    "soup = BeautifulSoup(url.text, 'lxml')\n",
    "\n",
    "#using soup object, iterate the .wikitable to get the data from the HTML page and store it into a list\n",
    "data = []\n",
    "columns = []\n",
    "table = soup.find(class_='wikitable')\n",
    "for index, tr in enumerate(table.find_all('tr')):\n",
    "    section = []\n",
    "    for td in tr.find_all(['th','td']):\n",
    "        section.append(td.text.rstrip())\n",
    "    \n",
    "    #First row of data is the header\n",
    "    if (index == 0):\n",
    "        columns = section\n",
    "    else:\n",
    "        data.append(section)\n",
    "\n",
    "#convert list into Pandas DataFrame\n",
    "canada_df = pd.DataFrame(data = data,columns = columns)\n",
    "canada_df.head()"
   ]
  },
  {
   "cell_type": "markdown",
   "metadata": {},
   "source": [
    "The next steps clean up the data"
   ]
  },
  {
   "cell_type": "code",
   "execution_count": 10,
   "metadata": {},
   "outputs": [
    {
     "data": {
      "text/html": [
       "<div>\n",
       "<style scoped>\n",
       "    .dataframe tbody tr th:only-of-type {\n",
       "        vertical-align: middle;\n",
       "    }\n",
       "\n",
       "    .dataframe tbody tr th {\n",
       "        vertical-align: top;\n",
       "    }\n",
       "\n",
       "    .dataframe thead th {\n",
       "        text-align: right;\n",
       "    }\n",
       "</style>\n",
       "<table border=\"1\" class=\"dataframe\">\n",
       "  <thead>\n",
       "    <tr style=\"text-align: right;\">\n",
       "      <th></th>\n",
       "      <th>Postal Code</th>\n",
       "      <th>Borough</th>\n",
       "      <th>Neighbourhood</th>\n",
       "    </tr>\n",
       "  </thead>\n",
       "  <tbody>\n",
       "    <tr>\n",
       "      <th>2</th>\n",
       "      <td>M3A</td>\n",
       "      <td>North York</td>\n",
       "      <td>Parkwoods</td>\n",
       "    </tr>\n",
       "    <tr>\n",
       "      <th>3</th>\n",
       "      <td>M4A</td>\n",
       "      <td>North York</td>\n",
       "      <td>Victoria Village</td>\n",
       "    </tr>\n",
       "    <tr>\n",
       "      <th>4</th>\n",
       "      <td>M5A</td>\n",
       "      <td>Downtown Toronto</td>\n",
       "      <td>Regent Park, Harbourfront</td>\n",
       "    </tr>\n",
       "    <tr>\n",
       "      <th>5</th>\n",
       "      <td>M6A</td>\n",
       "      <td>North York</td>\n",
       "      <td>Lawrence Manor, Lawrence Heights</td>\n",
       "    </tr>\n",
       "    <tr>\n",
       "      <th>6</th>\n",
       "      <td>M7A</td>\n",
       "      <td>Downtown Toronto</td>\n",
       "      <td>Queen's Park, Ontario Provincial Government</td>\n",
       "    </tr>\n",
       "  </tbody>\n",
       "</table>\n",
       "</div>"
      ],
      "text/plain": [
       "  Postal Code           Borough                                Neighbourhood\n",
       "2         M3A        North York                                    Parkwoods\n",
       "3         M4A        North York                             Victoria Village\n",
       "4         M5A  Downtown Toronto                    Regent Park, Harbourfront\n",
       "5         M6A        North York             Lawrence Manor, Lawrence Heights\n",
       "6         M7A  Downtown Toronto  Queen's Park, Ontario Provincial Government"
      ]
     },
     "execution_count": 10,
     "metadata": {},
     "output_type": "execute_result"
    }
   ],
   "source": [
    "#Remove Boroughs that are 'Not assigned'\n",
    "canada_df = canada_df[canada_df['Borough'] != 'Not assigned']\n",
    "canada_df.head()"
   ]
  },
  {
   "cell_type": "code",
   "execution_count": 11,
   "metadata": {},
   "outputs": [
    {
     "data": {
      "text/html": [
       "<div>\n",
       "<style scoped>\n",
       "    .dataframe tbody tr th:only-of-type {\n",
       "        vertical-align: middle;\n",
       "    }\n",
       "\n",
       "    .dataframe tbody tr th {\n",
       "        vertical-align: top;\n",
       "    }\n",
       "\n",
       "    .dataframe thead th {\n",
       "        text-align: right;\n",
       "    }\n",
       "</style>\n",
       "<table border=\"1\" class=\"dataframe\">\n",
       "  <thead>\n",
       "    <tr style=\"text-align: right;\">\n",
       "      <th></th>\n",
       "      <th>Borough</th>\n",
       "      <th>Neighbourhood</th>\n",
       "    </tr>\n",
       "    <tr>\n",
       "      <th>Postal Code</th>\n",
       "      <th></th>\n",
       "      <th></th>\n",
       "    </tr>\n",
       "  </thead>\n",
       "  <tbody>\n",
       "    <tr>\n",
       "      <th>M3A</th>\n",
       "      <td>North York</td>\n",
       "      <td>Parkwoods</td>\n",
       "    </tr>\n",
       "    <tr>\n",
       "      <th>M4A</th>\n",
       "      <td>North York</td>\n",
       "      <td>Victoria Village</td>\n",
       "    </tr>\n",
       "    <tr>\n",
       "      <th>M5A</th>\n",
       "      <td>Downtown Toronto</td>\n",
       "      <td>Regent Park, Harbourfront</td>\n",
       "    </tr>\n",
       "    <tr>\n",
       "      <th>M6A</th>\n",
       "      <td>North York</td>\n",
       "      <td>Lawrence Manor, Lawrence Heights</td>\n",
       "    </tr>\n",
       "    <tr>\n",
       "      <th>M7A</th>\n",
       "      <td>Downtown Toronto</td>\n",
       "      <td>Queen's Park, Ontario Provincial Government</td>\n",
       "    </tr>\n",
       "    <tr>\n",
       "      <th>...</th>\n",
       "      <td>...</td>\n",
       "      <td>...</td>\n",
       "    </tr>\n",
       "    <tr>\n",
       "      <th>M8X</th>\n",
       "      <td>Etobicoke</td>\n",
       "      <td>The Kingsway, Montgomery Road, Old Mill North</td>\n",
       "    </tr>\n",
       "    <tr>\n",
       "      <th>M4Y</th>\n",
       "      <td>Downtown Toronto</td>\n",
       "      <td>Church and Wellesley</td>\n",
       "    </tr>\n",
       "    <tr>\n",
       "      <th>M7Y</th>\n",
       "      <td>East Toronto</td>\n",
       "      <td>Business reply mail Processing Centre, South C...</td>\n",
       "    </tr>\n",
       "    <tr>\n",
       "      <th>M8Y</th>\n",
       "      <td>Etobicoke</td>\n",
       "      <td>Old Mill South, King's Mill Park, Sunnylea, Hu...</td>\n",
       "    </tr>\n",
       "    <tr>\n",
       "      <th>M8Z</th>\n",
       "      <td>Etobicoke</td>\n",
       "      <td>Mimico NW, The Queensway West, South of Bloor,...</td>\n",
       "    </tr>\n",
       "  </tbody>\n",
       "</table>\n",
       "<p>103 rows × 2 columns</p>\n",
       "</div>"
      ],
      "text/plain": [
       "                      Borough  \\\n",
       "Postal Code                     \n",
       "M3A                North York   \n",
       "M4A                North York   \n",
       "M5A          Downtown Toronto   \n",
       "M6A                North York   \n",
       "M7A          Downtown Toronto   \n",
       "...                       ...   \n",
       "M8X                 Etobicoke   \n",
       "M4Y          Downtown Toronto   \n",
       "M7Y              East Toronto   \n",
       "M8Y                 Etobicoke   \n",
       "M8Z                 Etobicoke   \n",
       "\n",
       "                                                 Neighbourhood  \n",
       "Postal Code                                                     \n",
       "M3A                                                  Parkwoods  \n",
       "M4A                                           Victoria Village  \n",
       "M5A                                  Regent Park, Harbourfront  \n",
       "M6A                           Lawrence Manor, Lawrence Heights  \n",
       "M7A                Queen's Park, Ontario Provincial Government  \n",
       "...                                                        ...  \n",
       "M8X              The Kingsway, Montgomery Road, Old Mill North  \n",
       "M4Y                                       Church and Wellesley  \n",
       "M7Y          Business reply mail Processing Centre, South C...  \n",
       "M8Y          Old Mill South, King's Mill Park, Sunnylea, Hu...  \n",
       "M8Z          Mimico NW, The Queensway West, South of Bloor,...  \n",
       "\n",
       "[103 rows x 2 columns]"
      ]
     },
     "execution_count": 11,
     "metadata": {},
     "output_type": "execute_result"
    }
   ],
   "source": [
    "canada_df[\"Neighbourhood\"] = canada_df.groupby(\"Postal Code\")[\"Neighbourhood\"].transform(lambda neigh: ', '.join(neigh))\n",
    "\n",
    "#remove duplicates\n",
    "canada_df = canada_df.drop_duplicates()\n",
    "\n",
    "#update index to be Postal Code if it isn't already\n",
    "if(canada_df.index.name != 'Postal Code'):\n",
    "    canada_df = canada_df.set_index('Postal Code')\n",
    "\n",
    "canada_df"
   ]
  },
  {
   "cell_type": "markdown",
   "metadata": {},
   "source": [
    "If a cell has a borough but a Not assigned neighborhood, then the neighborhood will be the same as the borough."
   ]
  },
  {
   "cell_type": "code",
   "execution_count": 12,
   "metadata": {},
   "outputs": [
    {
     "data": {
      "text/html": [
       "<div>\n",
       "<style scoped>\n",
       "    .dataframe tbody tr th:only-of-type {\n",
       "        vertical-align: middle;\n",
       "    }\n",
       "\n",
       "    .dataframe tbody tr th {\n",
       "        vertical-align: top;\n",
       "    }\n",
       "\n",
       "    .dataframe thead th {\n",
       "        text-align: right;\n",
       "    }\n",
       "</style>\n",
       "<table border=\"1\" class=\"dataframe\">\n",
       "  <thead>\n",
       "    <tr style=\"text-align: right;\">\n",
       "      <th></th>\n",
       "      <th>Borough</th>\n",
       "      <th>Neighbourhood</th>\n",
       "    </tr>\n",
       "    <tr>\n",
       "      <th>Postal Code</th>\n",
       "      <th></th>\n",
       "      <th></th>\n",
       "    </tr>\n",
       "  </thead>\n",
       "  <tbody>\n",
       "    <tr>\n",
       "      <th>M3A</th>\n",
       "      <td>North York</td>\n",
       "      <td>Parkwoods</td>\n",
       "    </tr>\n",
       "    <tr>\n",
       "      <th>M4A</th>\n",
       "      <td>North York</td>\n",
       "      <td>Victoria Village</td>\n",
       "    </tr>\n",
       "    <tr>\n",
       "      <th>M5A</th>\n",
       "      <td>Downtown Toronto</td>\n",
       "      <td>Regent Park, Harbourfront</td>\n",
       "    </tr>\n",
       "    <tr>\n",
       "      <th>M6A</th>\n",
       "      <td>North York</td>\n",
       "      <td>Lawrence Manor, Lawrence Heights</td>\n",
       "    </tr>\n",
       "    <tr>\n",
       "      <th>M7A</th>\n",
       "      <td>Downtown Toronto</td>\n",
       "      <td>Queen's Park, Ontario Provincial Government</td>\n",
       "    </tr>\n",
       "  </tbody>\n",
       "</table>\n",
       "</div>"
      ],
      "text/plain": [
       "                      Borough                                Neighbourhood\n",
       "Postal Code                                                               \n",
       "M3A                North York                                    Parkwoods\n",
       "M4A                North York                             Victoria Village\n",
       "M5A          Downtown Toronto                    Regent Park, Harbourfront\n",
       "M6A                North York             Lawrence Manor, Lawrence Heights\n",
       "M7A          Downtown Toronto  Queen's Park, Ontario Provincial Government"
      ]
     },
     "execution_count": 12,
     "metadata": {},
     "output_type": "execute_result"
    }
   ],
   "source": [
    "canada_df['Neighbourhood'].replace(\"Not assigned\", canada_df[\"Borough\"],inplace=True)\n",
    "canada_df.head()"
   ]
  },
  {
   "cell_type": "markdown",
   "metadata": {},
   "source": [
    "In the last cell of your notebook, use the .shape method to print the number of rows of your dataframe."
   ]
  },
  {
   "cell_type": "code",
   "execution_count": 13,
   "metadata": {},
   "outputs": [
    {
     "data": {
      "text/plain": [
       "(103, 2)"
      ]
     },
     "execution_count": 13,
     "metadata": {},
     "output_type": "execute_result"
    }
   ],
   "source": [
    "canada_df.shape"
   ]
  },
  {
   "cell_type": "markdown",
   "metadata": {},
   "source": [
    "Get the latitude and longitude each neighborhood"
   ]
  },
  {
   "cell_type": "code",
   "execution_count": 14,
   "metadata": {},
   "outputs": [
    {
     "data": {
      "text/html": [
       "<div>\n",
       "<style scoped>\n",
       "    .dataframe tbody tr th:only-of-type {\n",
       "        vertical-align: middle;\n",
       "    }\n",
       "\n",
       "    .dataframe tbody tr th {\n",
       "        vertical-align: top;\n",
       "    }\n",
       "\n",
       "    .dataframe thead th {\n",
       "        text-align: right;\n",
       "    }\n",
       "</style>\n",
       "<table border=\"1\" class=\"dataframe\">\n",
       "  <thead>\n",
       "    <tr style=\"text-align: right;\">\n",
       "      <th></th>\n",
       "      <th>Postal Code</th>\n",
       "      <th>Latitude</th>\n",
       "      <th>Longitude</th>\n",
       "    </tr>\n",
       "  </thead>\n",
       "  <tbody>\n",
       "    <tr>\n",
       "      <th>0</th>\n",
       "      <td>M1B</td>\n",
       "      <td>43.806686</td>\n",
       "      <td>-79.194353</td>\n",
       "    </tr>\n",
       "    <tr>\n",
       "      <th>1</th>\n",
       "      <td>M1C</td>\n",
       "      <td>43.784535</td>\n",
       "      <td>-79.160497</td>\n",
       "    </tr>\n",
       "    <tr>\n",
       "      <th>2</th>\n",
       "      <td>M1E</td>\n",
       "      <td>43.763573</td>\n",
       "      <td>-79.188711</td>\n",
       "    </tr>\n",
       "    <tr>\n",
       "      <th>3</th>\n",
       "      <td>M1G</td>\n",
       "      <td>43.770992</td>\n",
       "      <td>-79.216917</td>\n",
       "    </tr>\n",
       "    <tr>\n",
       "      <th>4</th>\n",
       "      <td>M1H</td>\n",
       "      <td>43.773136</td>\n",
       "      <td>-79.239476</td>\n",
       "    </tr>\n",
       "  </tbody>\n",
       "</table>\n",
       "</div>"
      ],
      "text/plain": [
       "  Postal Code   Latitude  Longitude\n",
       "0         M1B  43.806686 -79.194353\n",
       "1         M1C  43.784535 -79.160497\n",
       "2         M1E  43.763573 -79.188711\n",
       "3         M1G  43.770992 -79.216917\n",
       "4         M1H  43.773136 -79.239476"
      ]
     },
     "execution_count": 14,
     "metadata": {},
     "output_type": "execute_result"
    }
   ],
   "source": [
    "\n",
    "url = \"https://raw.githubusercontent.com/logicalschema/Coursera_Capstone/main/Geospatial_Coordinates.csv\"\n",
    "df_geo_coor = pd.read_csv(url)\n",
    "df_geo_coor.head()\n",
    "\n"
   ]
  },
  {
   "cell_type": "code",
   "execution_count": 17,
   "metadata": {},
   "outputs": [
    {
     "data": {
      "text/html": [
       "<div>\n",
       "<style scoped>\n",
       "    .dataframe tbody tr th:only-of-type {\n",
       "        vertical-align: middle;\n",
       "    }\n",
       "\n",
       "    .dataframe tbody tr th {\n",
       "        vertical-align: top;\n",
       "    }\n",
       "\n",
       "    .dataframe thead th {\n",
       "        text-align: right;\n",
       "    }\n",
       "</style>\n",
       "<table border=\"1\" class=\"dataframe\">\n",
       "  <thead>\n",
       "    <tr style=\"text-align: right;\">\n",
       "      <th></th>\n",
       "      <th>Borough</th>\n",
       "      <th>Neighbourhood</th>\n",
       "      <th>Latitude</th>\n",
       "      <th>Longitude</th>\n",
       "    </tr>\n",
       "  </thead>\n",
       "  <tbody>\n",
       "    <tr>\n",
       "      <th>0</th>\n",
       "      <td>North York</td>\n",
       "      <td>Parkwoods</td>\n",
       "      <td>43.753259</td>\n",
       "      <td>-79.329656</td>\n",
       "    </tr>\n",
       "    <tr>\n",
       "      <th>1</th>\n",
       "      <td>North York</td>\n",
       "      <td>Victoria Village</td>\n",
       "      <td>43.725882</td>\n",
       "      <td>-79.315572</td>\n",
       "    </tr>\n",
       "    <tr>\n",
       "      <th>2</th>\n",
       "      <td>Downtown Toronto</td>\n",
       "      <td>Regent Park, Harbourfront</td>\n",
       "      <td>43.654260</td>\n",
       "      <td>-79.360636</td>\n",
       "    </tr>\n",
       "    <tr>\n",
       "      <th>3</th>\n",
       "      <td>North York</td>\n",
       "      <td>Lawrence Manor, Lawrence Heights</td>\n",
       "      <td>43.718518</td>\n",
       "      <td>-79.464763</td>\n",
       "    </tr>\n",
       "    <tr>\n",
       "      <th>4</th>\n",
       "      <td>Downtown Toronto</td>\n",
       "      <td>Queen's Park, Ontario Provincial Government</td>\n",
       "      <td>43.662301</td>\n",
       "      <td>-79.389494</td>\n",
       "    </tr>\n",
       "  </tbody>\n",
       "</table>\n",
       "</div>"
      ],
      "text/plain": [
       "            Borough                                Neighbourhood   Latitude  \\\n",
       "0        North York                                    Parkwoods  43.753259   \n",
       "1        North York                             Victoria Village  43.725882   \n",
       "2  Downtown Toronto                    Regent Park, Harbourfront  43.654260   \n",
       "3        North York             Lawrence Manor, Lawrence Heights  43.718518   \n",
       "4  Downtown Toronto  Queen's Park, Ontario Provincial Government  43.662301   \n",
       "\n",
       "   Longitude  \n",
       "0 -79.329656  \n",
       "1 -79.315572  \n",
       "2 -79.360636  \n",
       "3 -79.464763  \n",
       "4 -79.389494  "
      ]
     },
     "execution_count": 17,
     "metadata": {},
     "output_type": "execute_result"
    }
   ],
   "source": [
    "df_toronto = pd.merge(canada_df, df_geo_coor, how='left', left_on = 'Postal Code', right_on = 'Postal Code')\n",
    "# remove the \"Postal Code\" column\n",
    "df_toronto.drop(\"Postal Code\", axis=1, inplace=True)\n",
    "df_toronto.head()"
   ]
  },
  {
   "cell_type": "markdown",
   "metadata": {},
   "source": [
    "Get the Latitude and Longitude of Toronto"
   ]
  },
  {
   "cell_type": "code",
   "execution_count": 18,
   "metadata": {},
   "outputs": [
    {
     "name": "stdout",
     "output_type": "stream",
     "text": [
      "The geograpical coordinate of Toronto city are 43.6534817, -79.3839347.\n"
     ]
    }
   ],
   "source": [
    "address = \"Toronto, ON\"\n",
    "\n",
    "geolocator = Nominatim(user_agent=\"toronto_explorer\")\n",
    "location = geolocator.geocode(address)\n",
    "latitude = location.latitude\n",
    "longitude = location.longitude\n",
    "print('The geograpical coordinate of Toronto city are {}, {}.'.format(latitude, longitude))"
   ]
  },
  {
   "cell_type": "markdown",
   "metadata": {},
   "source": [
    "Map of Toronto with Neighborhoods"
   ]
  },
  {
   "cell_type": "code",
   "execution_count": 21,
   "metadata": {
    "scrolled": false
   },
   "outputs": [
    {
     "data": {
      "text/html": [
       "<div style=\"width:100%;\"><div style=\"position:relative;width:100%;height:0;padding-bottom:60%;\"><span style=\"color:#565656\">Make this Notebook Trusted to load map: File -> Trust Notebook</span><iframe src=\"about:blank\" style=\"position:absolute;width:100%;height:100%;left:0;top:0;border:none !important;\" data-html=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 onload=\"this.contentDocument.open();this.contentDocument.write(atob(this.getAttribute('data-html')));this.contentDocument.close();\" allowfullscreen webkitallowfullscreen mozallowfullscreen></iframe></div></div>"
      ],
      "text/plain": [
       "<folium.folium.Map at 0x7f81ae235350>"
      ]
     },
     "execution_count": 21,
     "metadata": {},
     "output_type": "execute_result"
    }
   ],
   "source": [
    "# Create map of Toronto using latitude and longitude values\n",
    "map_toronto = folium.Map(location=[latitude, longitude], zoom_start=10)\n",
    "map_toronto"
   ]
  },
  {
   "cell_type": "markdown",
   "metadata": {},
   "source": [
    "# Markers"
   ]
  },
  {
   "cell_type": "code",
   "execution_count": 23,
   "metadata": {},
   "outputs": [
    {
     "data": {
      "text/html": [
       "<div style=\"width:100%;\"><div style=\"position:relative;width:100%;height:0;padding-bottom:60%;\"><span style=\"color:#565656\">Make this Notebook Trusted to load map: File -> Trust Notebook</span><iframe src=\"about:blank\" style=\"position:absolute;width:100%;height:100%;left:0;top:0;border:none !important;\" data-html=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 onload=\"this.contentDocument.open();this.contentDocument.write(atob(this.getAttribute('data-html')));this.contentDocument.close();\" allowfullscreen webkitallowfullscreen mozallowfullscreen></iframe></div></div>"
      ],
      "text/plain": [
       "<folium.folium.Map at 0x7f81ae235350>"
      ]
     },
     "execution_count": 23,
     "metadata": {},
     "output_type": "execute_result"
    }
   ],
   "source": [
    "for lat, lng, borough, neighborhood in zip(\n",
    "        df_toronto['Latitude'], \n",
    "        df_toronto['Longitude'], \n",
    "        df_toronto['Borough'], \n",
    "        df_toronto['Neighbourhood']):\n",
    "    label = '{}, {}'.format(neighborhood, borough)\n",
    "    label = folium.Popup(label, parse_html=True)\n",
    "    folium.CircleMarker(\n",
    "        [lat, lng],\n",
    "        radius=5,\n",
    "        popup=label,\n",
    "        color='blue',\n",
    "        fill=True,\n",
    "        fill_color='#3186cc',\n",
    "        fill_opacity=0.7,\n",
    "        parse_html=False).add_to(map_toronto)  \n",
    "\n",
    "map_toronto"
   ]
  },
  {
   "cell_type": "markdown",
   "metadata": {},
   "source": [
    "# Boroughs in Toronto"
   ]
  },
  {
   "cell_type": "code",
   "execution_count": 24,
   "metadata": {},
   "outputs": [
    {
     "data": {
      "text/html": [
       "<div>\n",
       "<style scoped>\n",
       "    .dataframe tbody tr th:only-of-type {\n",
       "        vertical-align: middle;\n",
       "    }\n",
       "\n",
       "    .dataframe tbody tr th {\n",
       "        vertical-align: top;\n",
       "    }\n",
       "\n",
       "    .dataframe thead th {\n",
       "        text-align: right;\n",
       "    }\n",
       "</style>\n",
       "<table border=\"1\" class=\"dataframe\">\n",
       "  <thead>\n",
       "    <tr style=\"text-align: right;\">\n",
       "      <th></th>\n",
       "      <th>Borough</th>\n",
       "      <th>Neighbourhood</th>\n",
       "      <th>Latitude</th>\n",
       "      <th>Longitude</th>\n",
       "    </tr>\n",
       "  </thead>\n",
       "  <tbody>\n",
       "    <tr>\n",
       "      <th>0</th>\n",
       "      <td>Downtown Toronto</td>\n",
       "      <td>Regent Park, Harbourfront</td>\n",
       "      <td>43.654260</td>\n",
       "      <td>-79.360636</td>\n",
       "    </tr>\n",
       "    <tr>\n",
       "      <th>1</th>\n",
       "      <td>Downtown Toronto</td>\n",
       "      <td>Queen's Park, Ontario Provincial Government</td>\n",
       "      <td>43.662301</td>\n",
       "      <td>-79.389494</td>\n",
       "    </tr>\n",
       "    <tr>\n",
       "      <th>2</th>\n",
       "      <td>Downtown Toronto</td>\n",
       "      <td>Garden District, Ryerson</td>\n",
       "      <td>43.657162</td>\n",
       "      <td>-79.378937</td>\n",
       "    </tr>\n",
       "    <tr>\n",
       "      <th>3</th>\n",
       "      <td>Downtown Toronto</td>\n",
       "      <td>St. James Town</td>\n",
       "      <td>43.651494</td>\n",
       "      <td>-79.375418</td>\n",
       "    </tr>\n",
       "    <tr>\n",
       "      <th>4</th>\n",
       "      <td>East Toronto</td>\n",
       "      <td>The Beaches</td>\n",
       "      <td>43.676357</td>\n",
       "      <td>-79.293031</td>\n",
       "    </tr>\n",
       "  </tbody>\n",
       "</table>\n",
       "</div>"
      ],
      "text/plain": [
       "            Borough                                Neighbourhood   Latitude  \\\n",
       "0  Downtown Toronto                    Regent Park, Harbourfront  43.654260   \n",
       "1  Downtown Toronto  Queen's Park, Ontario Provincial Government  43.662301   \n",
       "2  Downtown Toronto                     Garden District, Ryerson  43.657162   \n",
       "3  Downtown Toronto                               St. James Town  43.651494   \n",
       "4      East Toronto                                  The Beaches  43.676357   \n",
       "\n",
       "   Longitude  \n",
       "0 -79.360636  \n",
       "1 -79.389494  \n",
       "2 -79.378937  \n",
       "3 -79.375418  \n",
       "4 -79.293031  "
      ]
     },
     "execution_count": 24,
     "metadata": {},
     "output_type": "execute_result"
    }
   ],
   "source": [
    "\n",
    "\n",
    "# \"denc\" = [D]owntown Toronto, [E]ast Toronto, [N]orth Toronto, [C]entral Toronto\n",
    "df_toronto_denc = df_toronto[df_toronto['Borough'].str.contains(\"Toronto\")].reset_index(drop=True)\n",
    "df_toronto_denc.head()\n",
    "\n"
   ]
  },
  {
   "cell_type": "code",
   "execution_count": null,
   "metadata": {},
   "outputs": [],
   "source": []
  }
 ],
 "metadata": {
  "kernelspec": {
   "display_name": "Python 3.7",
   "language": "python",
   "name": "python3"
  },
  "language_info": {
   "codemirror_mode": {
    "name": "ipython",
    "version": 3
   },
   "file_extension": ".py",
   "mimetype": "text/x-python",
   "name": "python",
   "nbconvert_exporter": "python",
   "pygments_lexer": "ipython3",
   "version": "3.7.9"
  }
 },
 "nbformat": 4,
 "nbformat_minor": 1
}
